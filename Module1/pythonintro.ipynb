{
 "cells": [
  {
   "cell_type": "markdown",
   "metadata": {},
   "source": [
    "# Python Introduction through jupyter Notebook\n",
    "\n",
    "Python is a popular programming language used to solve numerous problems.  Python is an open source language like PHP and is licensed uder the Python Software Foundation License, a GPL-compatible license.\n",
    "\n",
    "## python\n",
    "\n",
    "* Python is dynamically-typed, you do not need to declare variable type prior to execution.\n",
    "\n",
    "* Python is whitespace-delimited, meaning that you usually won't use braces to denote code blocks, but will use tabs instead.  This makes debugging more difficult.\n",
    "\n",
    "* No semi-colon to end statements is necessary.\n",
    "\n",
    "* Function names and variables names should use underscores to separate words and not mixedCase or camelCase.  So variable_name instead of variableName.  See https://www.python.org/dev/peps/pep-0008/\n",
    "\n",
    "* Python is pass-by-reference.  If you copy a variable or object, changes to the copy also change the original, even within functions.\n",
    "\n",
    "* You can \"require_once\" or import/include other files using the `import` command.\n",
    "\n",
    "## jupyter (ipython) Notebook\n",
    "\n",
    "* Within jupyter Notebook, code is written in cells.  Execute a \"cell\" by clicking Run or pressing Shift-Enter or various other key combos.  See Help -> Keyboard Shortcuts.\n",
    "\n",
    "* Run code in small increments to build a larger program.  This is excellent for data mining where a program can be built piece-by-piece to manipulate data.\n",
    "\n",
    "* Variables and other executed code remains in memory as long a the kernel is running.\n",
    "\n",
    "* Autosave feature is helpful but remember to save your code and version control it.\n",
    "\n",
    "* Like Vi, jupyter Notebook has a command mode, making code creation and execution easy and mouse-free for speed.\n",
    "\n",
    "\n",
    "\n",
    "## Additional Info:\n",
    "\n",
    "See the \"Help\" menu!\n",
    "\n",
    "IPython Notebook:  https://nbviewer.jupyter.org/github/ipython/ipython/blob/3.x/examples/Notebook/Index.ipynb \n",
    "\n",
    "Language Reference: https://docs.python.org/3/reference/\n",
    "\n",
    "The Python Tutorial: https://docs.python.org/3/tutorial/index.html#tutorial-index\n"
   ]
  },
  {
   "cell_type": "markdown",
   "metadata": {},
   "source": [
    "## 1.1 Basic Python Data Types and Operations\n",
    "\n",
    "Vanilla python has various standard data types that are familiar from other languages, like Integer, Long Integer, Floating Point, Boolean, Character, and String.  Here are some basic examples:\n"
   ]
  },
  {
   "cell_type": "code",
   "execution_count": 1,
   "metadata": {},
   "outputs": [
    {
     "name": "stdout",
     "output_type": "stream",
     "text": [
      "9 <class 'int'>\n",
      "6.7 <class 'float'>\n",
      "True <class 'bool'>\n",
      "A python string. <class 'str'>\n"
     ]
    }
   ],
   "source": [
    "#Integer\n",
    "num = 9\n",
    "print(num, type(num))\n",
    "\n",
    "#Floating Point\n",
    "val = 6.7       \n",
    "print(val, type(val))\n",
    "\n",
    "#Boolean\n",
    "sb = True           \n",
    "print(sb, type(sb))\n",
    "\n",
    "#String\n",
    "sentence = \"A python string.\"\n",
    "print(sentence, type(sentence))\n",
    "\n",
    "# Execute this code by selecting \"Cell\" -> \"Run Cells\" or by pressing Shift-Enter"
   ]
  },
  {
   "cell_type": "markdown",
   "metadata": {},
   "source": [
    "Basic math works like you might expect from other languages."
   ]
  },
  {
   "cell_type": "code",
   "execution_count": 2,
   "metadata": {},
   "outputs": [
    {
     "name": "stdout",
     "output_type": "stream",
     "text": [
      "13 8 27 4.5 11\n",
      "addnum is:  13\n"
     ]
    }
   ],
   "source": [
    "#Basics\n",
    "addnum = num + 4\n",
    "subnum = num - 1\n",
    "multnum = num * 3       \n",
    "divnum = num / 2\n",
    "\n",
    "#Other operators\n",
    "num += 2           \n",
    "num2 = num       \n",
    "num *= 3          \n",
    "\n",
    "print(addnum,subnum,multnum,divnum,num2)\n",
    "\n",
    "# or \n",
    "\n",
    "print(\"addnum is: \", addnum)\n",
    "\n"
   ]
  },
  {
   "cell_type": "markdown",
   "metadata": {},
   "source": [
    "The math module provides some additional functions."
   ]
  },
  {
   "cell_type": "code",
   "execution_count": 3,
   "metadata": {
    "scrolled": true
   },
   "outputs": [
    {
     "name": "stdout",
     "output_type": "stream",
     "text": [
      "3.6739403974420594e-16\n",
      "0.9999999869751758\n",
      "True\n",
      "True\n",
      "3.0\n",
      "81.0\n",
      "8103.083927575384\n",
      "362880\n",
      "1\n",
      "0\n",
      "0\n"
     ]
    }
   ],
   "source": [
    "import math\n",
    "\n",
    "#A built-in for pi\n",
    "y = 3*math.pi            \n",
    "print(math.sin(y))       \n",
    "print(math.tanh(y))      \n",
    "\n",
    "#Built-in for infinity\n",
    "i = math.inf\n",
    "print(math.isinf(i))\n",
    "\n",
    "#Not a number\n",
    "n = math.nan             \n",
    "print(math.isnan(n))\n",
    "\n",
    "\n",
    "#Other functions\n",
    "x = 9\n",
    "print(math.sqrt(x))      \n",
    "print(math.pow(x,2))     \n",
    "print(math.exp(x))               \n",
    "print(math.factorial(x)) \n",
    "\n",
    "#floating point\n",
    "y = 0.2\n",
    "#Ceiling\n",
    "print(math.ceil(y))   \n",
    "#Floor\n",
    "print(math.floor(y))\n",
    "#Truncate\n",
    "print(math.trunc(y))"
   ]
  },
  {
   "cell_type": "markdown",
   "metadata": {
    "collapsed": true
   },
   "source": [
    "Logical Operators - Use for testing within conditionals and the like"
   ]
  },
  {
   "cell_type": "code",
   "execution_count": 4,
   "metadata": {},
   "outputs": [
    {
     "name": "stdout",
     "output_type": "stream",
     "text": [
      "False\n",
      "True\n",
      "True\n"
     ]
    }
   ],
   "source": [
    "trval = True\n",
    "flval = False\n",
    "\n",
    "print(trval and flval)\n",
    "print(trval or flval)\n",
    "print(trval and not flval)  "
   ]
  },
  {
   "cell_type": "markdown",
   "metadata": {},
   "source": [
    "Selected string operations and more"
   ]
  },
  {
   "cell_type": "code",
   "execution_count": 5,
   "metadata": {},
   "outputs": [
    {
     "name": "stdout",
     "output_type": "stream",
     "text": [
      "4\n",
      "Length of string  UWSP  is now a string  4\n",
      "UWSP\n",
      "uwsp\n",
      "WSP\n",
      "and\n",
      "Computing and Old Media Technologies\n",
      "UWSP Computing and New Media Technologies\n",
      "18\n",
      "True\n",
      "===============================================================================\n"
     ]
    }
   ],
   "source": [
    "school = \"UWSP\"\n",
    "\n",
    "#Length\n",
    "print(len(school)) \n",
    "\n",
    "#Type cast length to a string instead of int\n",
    "print(\"Length of string \", school, \" is now a string \", str(len(school)))\n",
    "\n",
    "#change to upper or lower case\n",
    "print(school.upper())\n",
    "print(school.lower())\n",
    "\n",
    "#last three characters\n",
    "print(school[1:])                   \n",
    "\n",
    "school_dept = \"Computing and New Media Technologies\"\n",
    "\n",
    "#split on a space\n",
    "split_dept = school_dept.split(' ')\n",
    "print(split_dept[1])\n",
    "\n",
    "#Replacement\n",
    "print(school_dept.replace(\"New\",\"Old\"))\n",
    "\n",
    "#Concatenate\n",
    "print(school + \" \" + school_dept)\n",
    "\n",
    "#Search for something in the string\n",
    "print(school_dept.find(\"Media\"))\n",
    "print(\"Comput\" in school_dept)\n",
    "\n",
    "#Make 79 equals signs to look like a double line.\n",
    "print(\"\".join([\"=\"]*79))"
   ]
  },
  {
   "cell_type": "markdown",
   "metadata": {},
   "source": [
    "## 1.2 Sequence and Map Data Types: Lists and Dictionaries\n",
    "\n",
    "This section covers the list object and dictionaries. Tuples are not covered here, see https://docs.python.org/3/tutorial/datastructures.html#tuples-and-sequences for more information on tuples.\n",
    "\n",
    "A list object - Similar to numbered array in PHP."
   ]
  },
  {
   "cell_type": "code",
   "execution_count": 6,
   "metadata": {},
   "outputs": [
    {
     "name": "stdout",
     "output_type": "stream",
     "text": [
      "<class 'list'>\n",
      "[3, 5, 8, 13, 21, 34]\n",
      "[0, 2, 4, 6, 8]\n",
      "6\n",
      "8\n",
      "[3, 5]\n",
      "[8, 13, 21, 34]\n",
      "84\n",
      "[3, 5, 8, 13, 21, 34, 55]\n",
      "55\n",
      "[3, 5, 8, 13, 21, 34]\n",
      "[3, 5, 8, 13, 21, 34, 11, 13, 15]\n",
      "[3, 5, 8, 13, 21, 34, 3, 5, 8, 13, 21, 34, 3, 5, 8, 13, 21, 34, 3, 5, 8, 13, 21, 34]\n",
      "[3, 2, 5, 8, 13, 21, 34]\n",
      "[34, 21, 13, 8, 5, 3, 2]\n"
     ]
    }
   ],
   "source": [
    "fiblist = [3,5,8,13,21,34]\n",
    "print(type(fiblist))\n",
    "print(fiblist)\n",
    "\n",
    "#Create a list with the list and range functions\n",
    "another_list = list(range(0,10,2))\n",
    "print(another_list)\n",
    "\n",
    "#Length of list (number of elements)\n",
    "print(len(fiblist))\n",
    "\n",
    "#Third element\n",
    "print(fiblist[2])                \n",
    "\n",
    "#First two elements\n",
    "print(fiblist[:2])          \n",
    "\n",
    "#Final three elements\n",
    "print(fiblist[2:])              \n",
    "\n",
    "#Add (sum) all elements in the list.\n",
    "print(sum(fiblist))\n",
    "\n",
    "#Append another element, this time the number 55 to the list called fiblist.\n",
    "fiblist.append(55)\n",
    "\n",
    "print(fiblist)\n",
    "\n",
    "#Remove last element and print it.\n",
    "print(fiblist.pop())\n",
    "\n",
    "#List after pop() function call\n",
    "print(fiblist)\n",
    "\n",
    "#Glue two lists together to form a new list.\n",
    "print(fiblist + [11,13,15])\n",
    "\n",
    "#Make four copies of the list\n",
    "print(fiblist * 4)\n",
    "\n",
    "fiblist.insert(1,2)            \n",
    "print(fiblist)\n",
    "\n",
    "#Reverse the list\n",
    "fiblist.sort(reverse=True)\n",
    "print(fiblist)"
   ]
  },
  {
   "cell_type": "markdown",
   "metadata": {},
   "source": [
    "A list can also contain strings:"
   ]
  },
  {
   "cell_type": "code",
   "execution_count": 7,
   "metadata": {},
   "outputs": [
    {
     "name": "stdout",
     "output_type": "stream",
     "text": [
      "['news', 'sports', 'weather']\n",
      "<class 'list'>\n",
      "True\n",
      "Is the word weather in the list? True\n",
      "Third element\n",
      "weather\n",
      "['news', 'sports']\n",
      "['weather']\n"
     ]
    }
   ],
   "source": [
    "word_list = ['news','sports','weather']\n",
    "print(word_list)\n",
    "print(type(word_list))\n",
    "\n",
    "#Is the word \"weather\" in the list?\n",
    "print(\"weather\" in word_list)\n",
    "\n",
    "#Same as above, but nicer to read:\n",
    "print(\"Is the word weather in the list?\", \"weather\" in word_list)\n",
    "\n",
    "print(\"Third element\")\n",
    "#access third element\n",
    "print(word_list[2])               \n",
    "\n",
    "#show first two elements\n",
    "print(word_list[:2])       \n",
    "\n",
    "#show last two elements\n",
    "print(word_list[2:])             "
   ]
  },
  {
   "cell_type": "markdown",
   "metadata": {},
   "source": [
    "More advanced manipulation of lists"
   ]
  },
  {
   "cell_type": "code",
   "execution_count": 8,
   "metadata": {},
   "outputs": [
    {
     "name": "stdout",
     "output_type": "stream",
     "text": [
      "news sports weather events\n",
      "['sports', 'weather', 'events']\n"
     ]
    }
   ],
   "source": [
    "#Insert a new element\n",
    "word_list.append(\"events\")            \n",
    "\n",
    "separator = \" \"\n",
    "print(separator.join(word_list))\n",
    "\n",
    "#No one reads the news, so remove it.\n",
    "word_list.remove(\"news\")           \n",
    "print(word_list)\n",
    "\n"
   ]
  },
  {
   "cell_type": "markdown",
   "metadata": {},
   "source": [
    "Working with dictionaries - Similar to named index array in PHP"
   ]
  },
  {
   "cell_type": "code",
   "execution_count": 9,
   "metadata": {},
   "outputs": [
    {
     "name": "stdout",
     "output_type": "stream",
     "text": [
      "{'MA': 'Massachusetts', 'ME': 'Maine', 'MI': 'Michigan', 'MO': 'Missouri', 'MS': 'Mississippi', 'MT': 'Montana', 'IL': 'Illinois', 'WI': 'Wisconsin'}\n",
      "dict_keys(['MA', 'ME', 'MI', 'MO', 'MS', 'MT', 'IL', 'WI'])\n",
      "dict_values(['Massachusetts', 'Maine', 'Michigan', 'Missouri', 'Mississippi', 'Montana', 'Illinois', 'Wisconsin'])\n",
      "8\n",
      "Montana\n",
      "True\n",
      "{'cloudy': 9, 'sunny': 3, 'rain': 2, 'snow': 7}\n",
      "['cloudy', 'rain', 'snow', 'sunny']\n",
      "[('cloudy', 9), ('rain', 2), ('snow', 7), ('sunny', 3)]\n",
      "[('rain', 2), ('sunny', 3), ('snow', 7), ('cloudy', 9)]\n"
     ]
    }
   ],
   "source": [
    "states = {}\n",
    "states['MA'] = \"Massachusetts\"\n",
    "states['ME'] = \"Maine\"\n",
    "states['MI'] = \"Michigan\"\n",
    "states['MO'] = 'Missouri'\n",
    "states['MS'] = \"Mississippi\"\n",
    "states['MT'] = \"Montana\"\n",
    "states['IL'] = \"Illinois\"\n",
    "states['WI'] = \"Wisconsin\"\n",
    "\n",
    "print(states)\n",
    "#Return keys\n",
    "print(states.keys())          \n",
    "#Return values\n",
    "print(states.values())          \n",
    "#Return total number of key:value pairs\n",
    "print(len(states))              \n",
    "\n",
    "#Retrieve the value for the following key:\n",
    "print(states.get('MT'))\n",
    "print(\"WI\" in states)\n",
    "\n",
    "#Make a dictionary from two lists\n",
    "keys = ['cloudy','sunny','rain','snow']\n",
    "values = [9,3,2,7]\n",
    "sky = dict(zip(keys, values))\n",
    "print(sky)\n",
    "print(sorted(sky))     # sort based on keys\n",
    "\n",
    "#Other sorting\n",
    "from operator import itemgetter\n",
    "#Sort by key\n",
    "print(sorted(sky.items(), key=itemgetter(0)))  \n",
    "#Sort by value\n",
    "print(sorted(sky.items(), key=itemgetter(1)))   "
   ]
  },
  {
   "cell_type": "markdown",
   "metadata": {},
   "source": [
    "## 1.3 Control and Flow Statements: Conditionals and Loops\n",
    "\n",
    "Various forms of control flow exist, similar to other languages.  Basic if syntax follows, along with a for loop and a while loop.  Notice the lack of curly braces and the use of indenting."
   ]
  },
  {
   "cell_type": "code",
   "execution_count": 10,
   "metadata": {},
   "outputs": [
    {
     "name": "stdout",
     "output_type": "stream",
     "text": [
      "test_num = 34 is even\n",
      "test_num = 34 is positive\n"
     ]
    }
   ],
   "source": [
    "test_num = 34\n",
    "\n",
    "if test_num % 2 == 0:\n",
    "    print(\"test_num =\", test_num, \"is even\")\n",
    "else:\n",
    "    print(\"test_num =\", test_num, \"is odd\")\n",
    "\n",
    "if test_num > 0:\n",
    "    print(\"test_num =\", test_num, \"is positive\")\n",
    "elif test_num < 0:\n",
    "    print(\"test_num =\", test_num, \"is negative\")\n",
    "else:\n",
    "    print(\"test_num =\", test_num, \"is not positive or negative\")"
   ]
  },
  {
   "cell_type": "code",
   "execution_count": 11,
   "metadata": {},
   "outputs": [
    {
     "name": "stdout",
     "output_type": "stream",
     "text": [
      "Results using search for word\n",
      "['weather', 'sports']\n",
      "Using intersection:\n",
      "{'weather', 'sports'}\n",
      "[7, 6, 6]\n",
      "['Red', 'Orange', 'Yellow', 'Green']\n"
     ]
    }
   ],
   "source": [
    "#Recall word_list was defined above.\n",
    "\n",
    "search_words = ['weather','cat video','squirrel','sports']\n",
    "#Generally stay away from for loops if possible.\n",
    "#Don't do this to find words:\n",
    "#for i in search_words:\n",
    "#    print(\"Is the word\", i, \"in the list?\", i in word_list)\n",
    " \n",
    "#Instead, to find search words in the list:\n",
    "print(\"Results using search for word\")\n",
    "print([word for word in search_words if word in word_list])\n",
    "\n",
    "#Or cast to a set and use intersection\n",
    "word_set = set(word_list)\n",
    "search_set = set(search_words)\n",
    "print(\"Using intersection:\")\n",
    "print(word_set.intersection(search_set))\n",
    "\n",
    "#Get length of each word\n",
    "length_list = [len(word) for word in word_set]\n",
    "print(length_list)\n",
    "\n",
    "#Recall sky variable defined above, this is similar.\n",
    "#Here's a different way to define a similar dictionary.  Looks a lot like a JavaScript object.\n",
    "colors = {'Red': 3, 'Orange': 2, 'Yellow': 4, 'Green': 10}\n",
    "color_names = [k for (k,v) in colors.items()]\n",
    "print(color_names)"
   ]
  },
  {
   "cell_type": "code",
   "execution_count": 12,
   "metadata": {},
   "outputs": [
    {
     "name": "stdout",
     "output_type": "stream",
     "text": [
      "[-20, -19, -18, -17, -16, -15, -14, -13, -12, -11, -10, -9, -8, -7, -6, -5, -4, -3, -2, -1, 0, 1, 2, 3, 4, 5, 6, 7, 8, 9, 10, 11, 12, 13, 14, 15, 16, 17, 18, 19]\n",
      "First non-negative number greater than zero: 1\n"
     ]
    }
   ],
   "source": [
    "# using while loop\n",
    "\n",
    "ranged_list = list(range(-20,20))\n",
    "print(ranged_list)\n",
    "\n",
    "i = 0\n",
    "while (ranged_list[i] < 1):\n",
    "    i = i + 1\n",
    "    \n",
    "print(\"First non-negative number greater than zero:\", ranged_list[i])\n"
   ]
  },
  {
   "cell_type": "markdown",
   "metadata": {},
   "source": [
    "## 1.4 User-Defined Functions\n",
    "\n",
    "You can create your own functions in Python.  Functions can be named or unnamed.  When unnamed, the lambda function is used, as in the first example set."
   ]
  },
  {
   "cell_type": "code",
   "execution_count": 13,
   "metadata": {},
   "outputs": [
    {
     "name": "stdout",
     "output_type": "stream",
     "text": [
      "+++++++++++++++++++++++++++++++++++++++++++++++++++++++++++++++++++++++++++++++\n",
      "***************************************************\n"
     ]
    }
   ],
   "source": [
    "line_repeat = lambda c: \"\".join([c]*79)\n",
    "\n",
    "print(line_repeat(\"+\"))\n",
    "\n",
    "line_repeat_num = lambda c,n: \"\".join([c]*n)\n",
    "\n",
    "print(line_repeat_num(\"*\",51))"
   ]
  },
  {
   "cell_type": "code",
   "execution_count": 14,
   "metadata": {},
   "outputs": [
    {
     "name": "stdout",
     "output_type": "stream",
     "text": [
      "[0.0, 0.1, 0.34, 0.54, 0.2, 0]\n"
     ]
    }
   ],
   "source": [
    "import math\n",
    "\n",
    "precip_list = [0.0,0.1,-2,math.nan,0.34,0.54,0.2,0,-0.2]\n",
    "\n",
    "#Remove precipitation values that are not a number or are below zero\n",
    "#Note the use of a default value for an argument\n",
    "def remove_below_zero(precip_list, sort_nums=False):    \n",
    "    final_list = []\n",
    "    for item in precip_list:\n",
    "        if not math.isnan(item) and item >= 0.0:\n",
    "            final_list.append(item)\n",
    "            \n",
    "    if sort_nums:\n",
    "        final_list.sort()\n",
    "    return final_list\n",
    "\n",
    "\n",
    "\n",
    "print(remove_below_zero(precip_list))    "
   ]
  },
  {
   "cell_type": "markdown",
   "metadata": {},
   "source": [
    "## 1.5 Working with Files\n",
    "\n",
    "A common data mining task is to work with files.  There are other methods for doing so through libraries such as the read_csv() function in pandas, but Python can also work with files."
   ]
  },
  {
   "cell_type": "code",
   "execution_count": 15,
   "metadata": {},
   "outputs": [
    {
     "name": "stdout",
     "output_type": "stream",
     "text": [
      "State= Massachusetts\n",
      " ( MA )\n",
      "State= Maine\n",
      " ( ME )\n",
      "State= Michigan\n",
      " ( MI )\n",
      "State= Missouri\n",
      " ( MO )\n",
      "State= Mississippi\n",
      " ( MS )\n",
      "State= Montana\n",
      " ( MT )\n",
      "State= Illinois\n",
      " ( IL )\n",
      "State= Wisconsin ( WI )\n"
     ]
    }
   ],
   "source": [
    "states = {}\n",
    "states['MA'] = \"Massachusetts\"\n",
    "states['ME'] = \"Maine\"\n",
    "states['MI'] = \"Michigan\"\n",
    "states['MO'] = 'Missouri'\n",
    "states['MS'] = \"Mississippi\"\n",
    "states['MT'] = \"Montana\"\n",
    "states['IL'] = \"Illinois\"\n",
    "states['WI'] = \"Wisconsin\"\n",
    "\n",
    "with open('states.txt', 'w') as f:\n",
    "    f.write('\\n'.join('{0},{1}'.format(k,v) for k,v in states.items()))\n",
    "    \n",
    "with open('states.txt', 'r') as f:\n",
    "    for line in f:\n",
    "        fields = line.split(sep=',')\n",
    "        print('State=',fields[1],'(',fields[0],')')"
   ]
  }
 ],
 "metadata": {
  "kernelspec": {
   "display_name": "Python 3",
   "language": "python",
   "name": "python3"
  },
  "language_info": {
   "codemirror_mode": {
    "name": "ipython",
    "version": 3
   },
   "file_extension": ".py",
   "mimetype": "text/x-python",
   "name": "python",
   "nbconvert_exporter": "python",
   "pygments_lexer": "ipython3",
   "version": "3.7.1"
  }
 },
 "nbformat": 4,
 "nbformat_minor": 2
}
